{
 "cells": [
  {
   "cell_type": "code",
   "execution_count": 1,
   "id": "ee023254",
   "metadata": {},
   "outputs": [],
   "source": [
    "# imports\n",
    "\n",
    "import numpy as np\n",
    "import pandas as pd\n",
    "\n",
    "from sklearn.impute import SimpleImputer\n",
    "\n",
    "from sklearn.preprocessing import MinMaxScaler\n",
    "from sklearn.preprocessing import minmax_scale\n",
    "from sklearn.preprocessing import MaxAbsScaler\n",
    "from sklearn.preprocessing import StandardScaler\n",
    "from sklearn.preprocessing import RobustScaler\n",
    "from sklearn.preprocessing import Normalizer\n",
    "from sklearn.preprocessing import QuantileTransformer\n",
    "from sklearn.preprocessing import PowerTransformer\n",
    "\n",
    "from collections import Counter\n",
    "from sklearn.datasets import make_classification\n",
    "from imblearn.over_sampling import SMOTE"
   ]
  },
  {
   "cell_type": "code",
   "execution_count": 2,
   "id": "323dec28",
   "metadata": {},
   "outputs": [],
   "source": [
    "diamonds_train = pd.read_csv('../db/diamonds_train.csv')\n",
    "diamonds_test = pd.read_csv('../db/diamonds_test.csv')\n",
    "sample_submission = pd.read_csv('../db/sample_submission.csv')"
   ]
  },
  {
   "cell_type": "code",
   "execution_count": 3,
   "id": "dacf8085",
   "metadata": {},
   "outputs": [
    {
     "name": "stdout",
     "output_type": "stream",
     "text": [
      "<class 'pandas.core.frame.DataFrame'>\n",
      "RangeIndex: 40455 entries, 0 to 40454\n",
      "Data columns (total 11 columns):\n",
      " #   Column   Non-Null Count  Dtype  \n",
      "---  ------   --------------  -----  \n",
      " 0   carat    40455 non-null  float64\n",
      " 1   cut      40455 non-null  object \n",
      " 2   color    40455 non-null  object \n",
      " 3   clarity  40455 non-null  object \n",
      " 4   depth    40455 non-null  float64\n",
      " 5   table    40455 non-null  float64\n",
      " 6   price    40455 non-null  int64  \n",
      " 7   x        40455 non-null  float64\n",
      " 8   y        40455 non-null  float64\n",
      " 9   z        40455 non-null  float64\n",
      " 10  city     40455 non-null  object \n",
      "dtypes: float64(6), int64(1), object(4)\n",
      "memory usage: 3.4+ MB\n"
     ]
    }
   ],
   "source": [
    "#to see which features are catagorical and numerical \n",
    "diamonds_train.info()"
   ]
  },
  {
   "cell_type": "code",
   "execution_count": 4,
   "id": "e8309863",
   "metadata": {},
   "outputs": [
    {
     "data": {
      "text/html": [
       "<div>\n",
       "<style scoped>\n",
       "    .dataframe tbody tr th:only-of-type {\n",
       "        vertical-align: middle;\n",
       "    }\n",
       "\n",
       "    .dataframe tbody tr th {\n",
       "        vertical-align: top;\n",
       "    }\n",
       "\n",
       "    .dataframe thead th {\n",
       "        text-align: right;\n",
       "    }\n",
       "</style>\n",
       "<table border=\"1\" class=\"dataframe\">\n",
       "  <thead>\n",
       "    <tr style=\"text-align: right;\">\n",
       "      <th></th>\n",
       "      <th>categorical_variable</th>\n",
       "      <th>number_of_possible_values</th>\n",
       "      <th>values</th>\n",
       "    </tr>\n",
       "  </thead>\n",
       "  <tbody>\n",
       "    <tr>\n",
       "      <th>0</th>\n",
       "      <td>city</td>\n",
       "      <td>13</td>\n",
       "      <td>[Dubai, Luxembourg, New York City, Antwerp, Ma...</td>\n",
       "    </tr>\n",
       "    <tr>\n",
       "      <th>1</th>\n",
       "      <td>clarity</td>\n",
       "      <td>8</td>\n",
       "      <td>[VS2, VVS2, SI1, VS1, SI2, I1, VVS1, IF]</td>\n",
       "    </tr>\n",
       "    <tr>\n",
       "      <th>2</th>\n",
       "      <td>color</td>\n",
       "      <td>7</td>\n",
       "      <td>[J, E, I, G, D, H, F]</td>\n",
       "    </tr>\n",
       "    <tr>\n",
       "      <th>3</th>\n",
       "      <td>cut</td>\n",
       "      <td>5</td>\n",
       "      <td>[Premium, Very Good, Fair, Good, Ideal]</td>\n",
       "    </tr>\n",
       "  </tbody>\n",
       "</table>\n",
       "</div>"
      ],
      "text/plain": [
       "  categorical_variable  number_of_possible_values  \\\n",
       "0                 city                         13   \n",
       "1              clarity                          8   \n",
       "2                color                          7   \n",
       "3                  cut                          5   \n",
       "\n",
       "                                              values  \n",
       "0  [Dubai, Luxembourg, New York City, Antwerp, Ma...  \n",
       "1           [VS2, VVS2, SI1, VS1, SI2, I1, VVS1, IF]  \n",
       "2                              [J, E, I, G, D, H, F]  \n",
       "3            [Premium, Very Good, Fair, Good, Ideal]  "
      ]
     },
     "execution_count": 4,
     "metadata": {},
     "output_type": "execute_result"
    }
   ],
   "source": [
    "# categorical features\n",
    "cols = ['cut', 'color', 'clarity', 'city']\n",
    "cat_list = []\n",
    "for col in cols:\n",
    "    cat = diamonds_train[col].unique()\n",
    "    cat_num = len(cat)\n",
    "    cat_dict = {\"categorical_variable\":col,\n",
    "                \"number_of_possible_values\":cat_num,\n",
    "                \"values\":cat}\n",
    "    cat_list.append(cat_dict)\n",
    "    \n",
    "categories = pd.DataFrame(cat_list).sort_values(by=\"number_of_possible_values\",\n",
    "                                                ascending=False).reset_index(drop=True)\n",
    "categories"
   ]
  },
  {
   "cell_type": "code",
   "execution_count": 5,
   "id": "984bb82c",
   "metadata": {},
   "outputs": [],
   "source": [
    "target = \"price\"\n",
    "cat_features = ['cut','color','clarity','city']\n",
    "num_features = ['carat','depth','table','x','y','z']\n",
    "\n",
    "for cat in cat_features:\n",
    "    diamonds_train[cat_features]=diamonds_train[cat_features].astype('category')\n",
    "    diamonds_test[cat_features]=diamonds_test[cat_features].astype('category')\n",
    "    \n",
    "cat_df = pd.get_dummies(diamonds_train[cat_features])\n",
    "num_df = diamonds_train.loc[:,num_features]\n",
    "train_df = pd.concat([cat_df,num_df],axis=1)\n",
    "\n",
    "cat_df = pd.get_dummies(diamonds_test[cat_features])\n",
    "num_df = diamonds_test.loc[:,num_features]\n",
    "test_df = pd.concat([cat_df, num_df], axis=1) \n",
    "\n",
    "features = list(cat_df.columns) + list(num_df.columns)"
   ]
  },
  {
   "cell_type": "code",
   "execution_count": 6,
   "id": "d5aaa82a",
   "metadata": {},
   "outputs": [
    {
     "data": {
      "text/plain": [
       "['cut_Fair',\n",
       " 'cut_Good',\n",
       " 'cut_Ideal',\n",
       " 'cut_Premium',\n",
       " 'cut_Very Good',\n",
       " 'color_D',\n",
       " 'color_E',\n",
       " 'color_F',\n",
       " 'color_G',\n",
       " 'color_H',\n",
       " 'color_I',\n",
       " 'color_J',\n",
       " 'clarity_I1',\n",
       " 'clarity_IF',\n",
       " 'clarity_SI1',\n",
       " 'clarity_SI2',\n",
       " 'clarity_VS1',\n",
       " 'clarity_VS2',\n",
       " 'clarity_VVS1',\n",
       " 'clarity_VVS2',\n",
       " 'city_Amsterdam',\n",
       " 'city_Antwerp',\n",
       " 'city_Dubai',\n",
       " 'city_Kimberly',\n",
       " 'city_Las Vegas',\n",
       " 'city_London',\n",
       " 'city_Luxembourg',\n",
       " 'city_Madrid',\n",
       " 'city_New York City',\n",
       " 'city_Paris',\n",
       " 'city_Surat',\n",
       " 'city_Tel Aviv',\n",
       " 'city_Zurich',\n",
       " 'carat',\n",
       " 'depth',\n",
       " 'table',\n",
       " 'x',\n",
       " 'y',\n",
       " 'z']"
      ]
     },
     "execution_count": 6,
     "metadata": {},
     "output_type": "execute_result"
    }
   ],
   "source": [
    "features"
   ]
  },
  {
   "cell_type": "code",
   "execution_count": 7,
   "id": "c6494d54",
   "metadata": {},
   "outputs": [
    {
     "data": {
      "text/plain": [
       "array([[-0.17611318, -0.3155308 , -0.81809533, ...,  0.97880679,\n",
       "         0.92198533,  1.02265738],\n",
       "       [-0.17611318, -0.3155308 , -0.81809533, ...,  0.5963938 ,\n",
       "         0.53825404,  0.5635818 ],\n",
       "       [-0.17611318, -0.3155308 , -0.81809533, ...,  0.11615424,\n",
       "         0.05858994,  0.13319845],\n",
       "       ...,\n",
       "       [-0.17611318, -0.3155308 ,  1.22235144, ..., -1.27120451,\n",
       "        -1.21470024, -1.21533607],\n",
       "       [-0.17611318, -0.3155308 ,  1.22235144, ..., -1.40460439,\n",
       "        -1.31063306, -1.41618164],\n",
       "       [-0.17611318, -0.3155308 ,  1.22235144, ..., -1.20895123,\n",
       "        -1.14493091, -1.21533607]])"
      ]
     },
     "execution_count": 7,
     "metadata": {},
     "output_type": "execute_result"
    }
   ],
   "source": [
    "scaler = StandardScaler()\n",
    "scaled_data = scaler.fit_transform(train_df.loc[:,features].values)\n",
    "y = diamonds_train[target]\n",
    "#scaled_data_df = pd.DataFrame(scaled_data)\n",
    "#scaled_data_df.columns = features\n",
    "#scaled_data_df\n",
    "scaled_data"
   ]
  },
  {
   "cell_type": "code",
   "execution_count": 8,
   "id": "94562957",
   "metadata": {},
   "outputs": [],
   "source": [
    "#aqui es cuando tengo una base de datos y necesito separar mi Xtrain, Xtest, ytrain y ytest para poder revisar mi modelo. En el caso del proyecto no necesito esto porque tengo dos datasets distintos uno para el train y uno para el validation. \n",
    "#from sklearn.model_selection import train_test_split\n",
    "#X_train, X_test, y_train, y_test = train_test_split(scaled_data_df,diamonds_train['price'], test_size=0.2, random_state=42)"
   ]
  },
  {
   "cell_type": "code",
   "execution_count": 9,
   "id": "05261209",
   "metadata": {},
   "outputs": [
    {
     "data": {
      "text/plain": [
       "LinearRegression()"
      ]
     },
     "execution_count": 9,
     "metadata": {},
     "output_type": "execute_result"
    }
   ],
   "source": [
    "from sklearn.linear_model import LinearRegression\n",
    "model = LinearRegression()\n",
    "model.fit(scaled_data, y=y)"
   ]
  },
  {
   "cell_type": "code",
   "execution_count": 10,
   "id": "321a2ebb",
   "metadata": {},
   "outputs": [],
   "source": [
    "x_test = scaler.transform(test_df.loc[:,features].values)\n",
    "predictions = model.predict(x_test)"
   ]
  },
  {
   "cell_type": "code",
   "execution_count": 11,
   "id": "9e2426dd",
   "metadata": {},
   "outputs": [],
   "source": [
    "#submisions = pd.DataFrame({\"id\": diamonds_test[\"id\"], \"price\": predictions})\n",
    "#submisions.to_csv(\"../db/submision.csv\", index=False)"
   ]
  },
  {
   "cell_type": "code",
   "execution_count": 12,
   "id": "d278e6f3",
   "metadata": {},
   "outputs": [],
   "source": [
    "##PRUEBAS##"
   ]
  },
  {
   "cell_type": "code",
   "execution_count": 13,
   "id": "cc94d2a3",
   "metadata": {},
   "outputs": [],
   "source": [
    "##SEPARACION DE MI DATASET\""
   ]
  },
  {
   "cell_type": "code",
   "execution_count": 14,
   "id": "7129c903",
   "metadata": {},
   "outputs": [],
   "source": [
    "#aqui es cuando tengo una base de datos y necesito separar mi Xtrain, Xtest, ytrain y ytest para poder revisar mi modelo. En el caso del proyecto no necesito esto porque tengo dos datasets distintos uno para el train y uno para el validation. \n",
    "from sklearn.model_selection import train_test_split\n",
    "X_train_allcolumns, X_test_allcolumns, y_train, y_test = train_test_split(train_df,diamonds_train['price'], test_size=0.2, random_state=42)"
   ]
  },
  {
   "cell_type": "code",
   "execution_count": 15,
   "id": "87d4ef67",
   "metadata": {},
   "outputs": [
    {
     "data": {
      "text/html": [
       "<div>\n",
       "<style scoped>\n",
       "    .dataframe tbody tr th:only-of-type {\n",
       "        vertical-align: middle;\n",
       "    }\n",
       "\n",
       "    .dataframe tbody tr th {\n",
       "        vertical-align: top;\n",
       "    }\n",
       "\n",
       "    .dataframe thead th {\n",
       "        text-align: right;\n",
       "    }\n",
       "</style>\n",
       "<table border=\"1\" class=\"dataframe\">\n",
       "  <thead>\n",
       "    <tr style=\"text-align: right;\">\n",
       "      <th></th>\n",
       "      <th>cut_Fair</th>\n",
       "      <th>cut_Good</th>\n",
       "      <th>cut_Ideal</th>\n",
       "      <th>cut_Premium</th>\n",
       "      <th>cut_Very Good</th>\n",
       "      <th>color_D</th>\n",
       "      <th>color_E</th>\n",
       "      <th>color_F</th>\n",
       "      <th>color_G</th>\n",
       "      <th>color_H</th>\n",
       "      <th>...</th>\n",
       "      <th>city_Paris</th>\n",
       "      <th>city_Surat</th>\n",
       "      <th>city_Tel Aviv</th>\n",
       "      <th>city_Zurich</th>\n",
       "      <th>carat</th>\n",
       "      <th>depth</th>\n",
       "      <th>table</th>\n",
       "      <th>x</th>\n",
       "      <th>y</th>\n",
       "      <th>z</th>\n",
       "    </tr>\n",
       "  </thead>\n",
       "  <tbody>\n",
       "    <tr>\n",
       "      <th>32121</th>\n",
       "      <td>0</td>\n",
       "      <td>0</td>\n",
       "      <td>0</td>\n",
       "      <td>1</td>\n",
       "      <td>0</td>\n",
       "      <td>0</td>\n",
       "      <td>1</td>\n",
       "      <td>0</td>\n",
       "      <td>0</td>\n",
       "      <td>0</td>\n",
       "      <td>...</td>\n",
       "      <td>0</td>\n",
       "      <td>0</td>\n",
       "      <td>0</td>\n",
       "      <td>0</td>\n",
       "      <td>0.42</td>\n",
       "      <td>60.1</td>\n",
       "      <td>58.0</td>\n",
       "      <td>4.91</td>\n",
       "      <td>4.87</td>\n",
       "      <td>2.94</td>\n",
       "    </tr>\n",
       "    <tr>\n",
       "      <th>9831</th>\n",
       "      <td>0</td>\n",
       "      <td>0</td>\n",
       "      <td>0</td>\n",
       "      <td>1</td>\n",
       "      <td>0</td>\n",
       "      <td>0</td>\n",
       "      <td>0</td>\n",
       "      <td>0</td>\n",
       "      <td>1</td>\n",
       "      <td>0</td>\n",
       "      <td>...</td>\n",
       "      <td>0</td>\n",
       "      <td>0</td>\n",
       "      <td>0</td>\n",
       "      <td>0</td>\n",
       "      <td>1.82</td>\n",
       "      <td>62.7</td>\n",
       "      <td>58.0</td>\n",
       "      <td>7.75</td>\n",
       "      <td>7.68</td>\n",
       "      <td>4.84</td>\n",
       "    </tr>\n",
       "    <tr>\n",
       "      <th>33128</th>\n",
       "      <td>0</td>\n",
       "      <td>0</td>\n",
       "      <td>0</td>\n",
       "      <td>1</td>\n",
       "      <td>0</td>\n",
       "      <td>1</td>\n",
       "      <td>0</td>\n",
       "      <td>0</td>\n",
       "      <td>0</td>\n",
       "      <td>0</td>\n",
       "      <td>...</td>\n",
       "      <td>0</td>\n",
       "      <td>0</td>\n",
       "      <td>0</td>\n",
       "      <td>0</td>\n",
       "      <td>0.50</td>\n",
       "      <td>62.9</td>\n",
       "      <td>61.0</td>\n",
       "      <td>5.03</td>\n",
       "      <td>4.96</td>\n",
       "      <td>3.14</td>\n",
       "    </tr>\n",
       "    <tr>\n",
       "      <th>6199</th>\n",
       "      <td>0</td>\n",
       "      <td>0</td>\n",
       "      <td>0</td>\n",
       "      <td>1</td>\n",
       "      <td>0</td>\n",
       "      <td>0</td>\n",
       "      <td>0</td>\n",
       "      <td>0</td>\n",
       "      <td>1</td>\n",
       "      <td>0</td>\n",
       "      <td>...</td>\n",
       "      <td>0</td>\n",
       "      <td>0</td>\n",
       "      <td>0</td>\n",
       "      <td>0</td>\n",
       "      <td>0.71</td>\n",
       "      <td>62.0</td>\n",
       "      <td>60.0</td>\n",
       "      <td>5.68</td>\n",
       "      <td>5.64</td>\n",
       "      <td>3.51</td>\n",
       "    </tr>\n",
       "    <tr>\n",
       "      <th>19661</th>\n",
       "      <td>0</td>\n",
       "      <td>1</td>\n",
       "      <td>0</td>\n",
       "      <td>0</td>\n",
       "      <td>0</td>\n",
       "      <td>0</td>\n",
       "      <td>1</td>\n",
       "      <td>0</td>\n",
       "      <td>0</td>\n",
       "      <td>0</td>\n",
       "      <td>...</td>\n",
       "      <td>0</td>\n",
       "      <td>0</td>\n",
       "      <td>0</td>\n",
       "      <td>0</td>\n",
       "      <td>1.01</td>\n",
       "      <td>59.3</td>\n",
       "      <td>64.0</td>\n",
       "      <td>6.47</td>\n",
       "      <td>6.49</td>\n",
       "      <td>3.84</td>\n",
       "    </tr>\n",
       "    <tr>\n",
       "      <th>...</th>\n",
       "      <td>...</td>\n",
       "      <td>...</td>\n",
       "      <td>...</td>\n",
       "      <td>...</td>\n",
       "      <td>...</td>\n",
       "      <td>...</td>\n",
       "      <td>...</td>\n",
       "      <td>...</td>\n",
       "      <td>...</td>\n",
       "      <td>...</td>\n",
       "      <td>...</td>\n",
       "      <td>...</td>\n",
       "      <td>...</td>\n",
       "      <td>...</td>\n",
       "      <td>...</td>\n",
       "      <td>...</td>\n",
       "      <td>...</td>\n",
       "      <td>...</td>\n",
       "      <td>...</td>\n",
       "      <td>...</td>\n",
       "      <td>...</td>\n",
       "    </tr>\n",
       "    <tr>\n",
       "      <th>6265</th>\n",
       "      <td>0</td>\n",
       "      <td>0</td>\n",
       "      <td>1</td>\n",
       "      <td>0</td>\n",
       "      <td>0</td>\n",
       "      <td>0</td>\n",
       "      <td>0</td>\n",
       "      <td>0</td>\n",
       "      <td>1</td>\n",
       "      <td>0</td>\n",
       "      <td>...</td>\n",
       "      <td>0</td>\n",
       "      <td>0</td>\n",
       "      <td>0</td>\n",
       "      <td>0</td>\n",
       "      <td>1.68</td>\n",
       "      <td>61.6</td>\n",
       "      <td>55.0</td>\n",
       "      <td>7.69</td>\n",
       "      <td>7.64</td>\n",
       "      <td>4.72</td>\n",
       "    </tr>\n",
       "    <tr>\n",
       "      <th>11284</th>\n",
       "      <td>0</td>\n",
       "      <td>0</td>\n",
       "      <td>0</td>\n",
       "      <td>0</td>\n",
       "      <td>1</td>\n",
       "      <td>0</td>\n",
       "      <td>0</td>\n",
       "      <td>1</td>\n",
       "      <td>0</td>\n",
       "      <td>0</td>\n",
       "      <td>...</td>\n",
       "      <td>0</td>\n",
       "      <td>0</td>\n",
       "      <td>0</td>\n",
       "      <td>0</td>\n",
       "      <td>1.00</td>\n",
       "      <td>59.8</td>\n",
       "      <td>58.0</td>\n",
       "      <td>6.49</td>\n",
       "      <td>6.53</td>\n",
       "      <td>3.89</td>\n",
       "    </tr>\n",
       "    <tr>\n",
       "      <th>38158</th>\n",
       "      <td>0</td>\n",
       "      <td>0</td>\n",
       "      <td>1</td>\n",
       "      <td>0</td>\n",
       "      <td>0</td>\n",
       "      <td>0</td>\n",
       "      <td>0</td>\n",
       "      <td>1</td>\n",
       "      <td>0</td>\n",
       "      <td>0</td>\n",
       "      <td>...</td>\n",
       "      <td>0</td>\n",
       "      <td>1</td>\n",
       "      <td>0</td>\n",
       "      <td>0</td>\n",
       "      <td>0.43</td>\n",
       "      <td>61.3</td>\n",
       "      <td>56.0</td>\n",
       "      <td>4.86</td>\n",
       "      <td>4.90</td>\n",
       "      <td>2.99</td>\n",
       "    </tr>\n",
       "    <tr>\n",
       "      <th>860</th>\n",
       "      <td>0</td>\n",
       "      <td>0</td>\n",
       "      <td>0</td>\n",
       "      <td>0</td>\n",
       "      <td>1</td>\n",
       "      <td>0</td>\n",
       "      <td>1</td>\n",
       "      <td>0</td>\n",
       "      <td>0</td>\n",
       "      <td>0</td>\n",
       "      <td>...</td>\n",
       "      <td>0</td>\n",
       "      <td>0</td>\n",
       "      <td>0</td>\n",
       "      <td>0</td>\n",
       "      <td>0.82</td>\n",
       "      <td>63.2</td>\n",
       "      <td>57.0</td>\n",
       "      <td>5.92</td>\n",
       "      <td>5.97</td>\n",
       "      <td>3.76</td>\n",
       "    </tr>\n",
       "    <tr>\n",
       "      <th>15795</th>\n",
       "      <td>0</td>\n",
       "      <td>1</td>\n",
       "      <td>0</td>\n",
       "      <td>0</td>\n",
       "      <td>0</td>\n",
       "      <td>0</td>\n",
       "      <td>0</td>\n",
       "      <td>0</td>\n",
       "      <td>0</td>\n",
       "      <td>1</td>\n",
       "      <td>...</td>\n",
       "      <td>0</td>\n",
       "      <td>0</td>\n",
       "      <td>1</td>\n",
       "      <td>0</td>\n",
       "      <td>1.01</td>\n",
       "      <td>63.1</td>\n",
       "      <td>59.0</td>\n",
       "      <td>6.30</td>\n",
       "      <td>6.34</td>\n",
       "      <td>3.99</td>\n",
       "    </tr>\n",
       "  </tbody>\n",
       "</table>\n",
       "<p>32364 rows × 39 columns</p>\n",
       "</div>"
      ],
      "text/plain": [
       "       cut_Fair  cut_Good  cut_Ideal  cut_Premium  cut_Very Good  color_D  \\\n",
       "32121         0         0          0            1              0        0   \n",
       "9831          0         0          0            1              0        0   \n",
       "33128         0         0          0            1              0        1   \n",
       "6199          0         0          0            1              0        0   \n",
       "19661         0         1          0            0              0        0   \n",
       "...         ...       ...        ...          ...            ...      ...   \n",
       "6265          0         0          1            0              0        0   \n",
       "11284         0         0          0            0              1        0   \n",
       "38158         0         0          1            0              0        0   \n",
       "860           0         0          0            0              1        0   \n",
       "15795         0         1          0            0              0        0   \n",
       "\n",
       "       color_E  color_F  color_G  color_H  ...  city_Paris  city_Surat  \\\n",
       "32121        1        0        0        0  ...           0           0   \n",
       "9831         0        0        1        0  ...           0           0   \n",
       "33128        0        0        0        0  ...           0           0   \n",
       "6199         0        0        1        0  ...           0           0   \n",
       "19661        1        0        0        0  ...           0           0   \n",
       "...        ...      ...      ...      ...  ...         ...         ...   \n",
       "6265         0        0        1        0  ...           0           0   \n",
       "11284        0        1        0        0  ...           0           0   \n",
       "38158        0        1        0        0  ...           0           1   \n",
       "860          1        0        0        0  ...           0           0   \n",
       "15795        0        0        0        1  ...           0           0   \n",
       "\n",
       "       city_Tel Aviv  city_Zurich  carat  depth  table     x     y     z  \n",
       "32121              0            0   0.42   60.1   58.0  4.91  4.87  2.94  \n",
       "9831               0            0   1.82   62.7   58.0  7.75  7.68  4.84  \n",
       "33128              0            0   0.50   62.9   61.0  5.03  4.96  3.14  \n",
       "6199               0            0   0.71   62.0   60.0  5.68  5.64  3.51  \n",
       "19661              0            0   1.01   59.3   64.0  6.47  6.49  3.84  \n",
       "...              ...          ...    ...    ...    ...   ...   ...   ...  \n",
       "6265               0            0   1.68   61.6   55.0  7.69  7.64  4.72  \n",
       "11284              0            0   1.00   59.8   58.0  6.49  6.53  3.89  \n",
       "38158              0            0   0.43   61.3   56.0  4.86  4.90  2.99  \n",
       "860                0            0   0.82   63.2   57.0  5.92  5.97  3.76  \n",
       "15795              1            0   1.01   63.1   59.0  6.30  6.34  3.99  \n",
       "\n",
       "[32364 rows x 39 columns]"
      ]
     },
     "execution_count": 15,
     "metadata": {},
     "output_type": "execute_result"
    }
   ],
   "source": [
    "X_train_allcolumns"
   ]
  },
  {
   "cell_type": "code",
   "execution_count": 16,
   "id": "5ba41aed",
   "metadata": {},
   "outputs": [
    {
     "data": {
      "text/html": [
       "<div>\n",
       "<style scoped>\n",
       "    .dataframe tbody tr th:only-of-type {\n",
       "        vertical-align: middle;\n",
       "    }\n",
       "\n",
       "    .dataframe tbody tr th {\n",
       "        vertical-align: top;\n",
       "    }\n",
       "\n",
       "    .dataframe thead th {\n",
       "        text-align: right;\n",
       "    }\n",
       "</style>\n",
       "<table border=\"1\" class=\"dataframe\">\n",
       "  <thead>\n",
       "    <tr style=\"text-align: right;\">\n",
       "      <th></th>\n",
       "      <th>cut_Fair</th>\n",
       "      <th>cut_Good</th>\n",
       "      <th>cut_Ideal</th>\n",
       "      <th>cut_Premium</th>\n",
       "      <th>cut_Very Good</th>\n",
       "      <th>color_D</th>\n",
       "      <th>color_E</th>\n",
       "      <th>color_F</th>\n",
       "      <th>color_G</th>\n",
       "      <th>color_H</th>\n",
       "      <th>...</th>\n",
       "      <th>city_Paris</th>\n",
       "      <th>city_Surat</th>\n",
       "      <th>city_Tel Aviv</th>\n",
       "      <th>city_Zurich</th>\n",
       "      <th>carat</th>\n",
       "      <th>depth</th>\n",
       "      <th>table</th>\n",
       "      <th>x</th>\n",
       "      <th>y</th>\n",
       "      <th>z</th>\n",
       "    </tr>\n",
       "  </thead>\n",
       "  <tbody>\n",
       "    <tr>\n",
       "      <th>17775</th>\n",
       "      <td>0</td>\n",
       "      <td>0</td>\n",
       "      <td>0</td>\n",
       "      <td>1</td>\n",
       "      <td>0</td>\n",
       "      <td>0</td>\n",
       "      <td>0</td>\n",
       "      <td>0</td>\n",
       "      <td>1</td>\n",
       "      <td>0</td>\n",
       "      <td>...</td>\n",
       "      <td>0</td>\n",
       "      <td>0</td>\n",
       "      <td>1</td>\n",
       "      <td>0</td>\n",
       "      <td>1.04</td>\n",
       "      <td>61.3</td>\n",
       "      <td>58.0</td>\n",
       "      <td>6.52</td>\n",
       "      <td>6.43</td>\n",
       "      <td>3.97</td>\n",
       "    </tr>\n",
       "    <tr>\n",
       "      <th>13506</th>\n",
       "      <td>0</td>\n",
       "      <td>0</td>\n",
       "      <td>0</td>\n",
       "      <td>0</td>\n",
       "      <td>1</td>\n",
       "      <td>1</td>\n",
       "      <td>0</td>\n",
       "      <td>0</td>\n",
       "      <td>0</td>\n",
       "      <td>0</td>\n",
       "      <td>...</td>\n",
       "      <td>0</td>\n",
       "      <td>0</td>\n",
       "      <td>0</td>\n",
       "      <td>0</td>\n",
       "      <td>0.23</td>\n",
       "      <td>59.6</td>\n",
       "      <td>61.0</td>\n",
       "      <td>3.99</td>\n",
       "      <td>4.03</td>\n",
       "      <td>2.39</td>\n",
       "    </tr>\n",
       "    <tr>\n",
       "      <th>4325</th>\n",
       "      <td>0</td>\n",
       "      <td>0</td>\n",
       "      <td>0</td>\n",
       "      <td>0</td>\n",
       "      <td>1</td>\n",
       "      <td>0</td>\n",
       "      <td>0</td>\n",
       "      <td>0</td>\n",
       "      <td>0</td>\n",
       "      <td>1</td>\n",
       "      <td>...</td>\n",
       "      <td>0</td>\n",
       "      <td>0</td>\n",
       "      <td>0</td>\n",
       "      <td>0</td>\n",
       "      <td>1.30</td>\n",
       "      <td>61.9</td>\n",
       "      <td>56.0</td>\n",
       "      <td>6.97</td>\n",
       "      <td>7.05</td>\n",
       "      <td>4.34</td>\n",
       "    </tr>\n",
       "    <tr>\n",
       "      <th>37870</th>\n",
       "      <td>0</td>\n",
       "      <td>0</td>\n",
       "      <td>0</td>\n",
       "      <td>0</td>\n",
       "      <td>1</td>\n",
       "      <td>0</td>\n",
       "      <td>0</td>\n",
       "      <td>0</td>\n",
       "      <td>0</td>\n",
       "      <td>1</td>\n",
       "      <td>...</td>\n",
       "      <td>0</td>\n",
       "      <td>1</td>\n",
       "      <td>0</td>\n",
       "      <td>0</td>\n",
       "      <td>0.90</td>\n",
       "      <td>61.7</td>\n",
       "      <td>57.0</td>\n",
       "      <td>6.21</td>\n",
       "      <td>6.26</td>\n",
       "      <td>3.85</td>\n",
       "    </tr>\n",
       "    <tr>\n",
       "      <th>21321</th>\n",
       "      <td>0</td>\n",
       "      <td>0</td>\n",
       "      <td>0</td>\n",
       "      <td>0</td>\n",
       "      <td>1</td>\n",
       "      <td>0</td>\n",
       "      <td>0</td>\n",
       "      <td>1</td>\n",
       "      <td>0</td>\n",
       "      <td>0</td>\n",
       "      <td>...</td>\n",
       "      <td>0</td>\n",
       "      <td>0</td>\n",
       "      <td>0</td>\n",
       "      <td>0</td>\n",
       "      <td>0.72</td>\n",
       "      <td>63.4</td>\n",
       "      <td>57.0</td>\n",
       "      <td>5.68</td>\n",
       "      <td>5.70</td>\n",
       "      <td>3.61</td>\n",
       "    </tr>\n",
       "    <tr>\n",
       "      <th>...</th>\n",
       "      <td>...</td>\n",
       "      <td>...</td>\n",
       "      <td>...</td>\n",
       "      <td>...</td>\n",
       "      <td>...</td>\n",
       "      <td>...</td>\n",
       "      <td>...</td>\n",
       "      <td>...</td>\n",
       "      <td>...</td>\n",
       "      <td>...</td>\n",
       "      <td>...</td>\n",
       "      <td>...</td>\n",
       "      <td>...</td>\n",
       "      <td>...</td>\n",
       "      <td>...</td>\n",
       "      <td>...</td>\n",
       "      <td>...</td>\n",
       "      <td>...</td>\n",
       "      <td>...</td>\n",
       "      <td>...</td>\n",
       "      <td>...</td>\n",
       "    </tr>\n",
       "    <tr>\n",
       "      <th>3781</th>\n",
       "      <td>0</td>\n",
       "      <td>1</td>\n",
       "      <td>0</td>\n",
       "      <td>0</td>\n",
       "      <td>0</td>\n",
       "      <td>1</td>\n",
       "      <td>0</td>\n",
       "      <td>0</td>\n",
       "      <td>0</td>\n",
       "      <td>0</td>\n",
       "      <td>...</td>\n",
       "      <td>0</td>\n",
       "      <td>0</td>\n",
       "      <td>0</td>\n",
       "      <td>0</td>\n",
       "      <td>0.70</td>\n",
       "      <td>63.6</td>\n",
       "      <td>60.0</td>\n",
       "      <td>5.59</td>\n",
       "      <td>5.51</td>\n",
       "      <td>3.51</td>\n",
       "    </tr>\n",
       "    <tr>\n",
       "      <th>26959</th>\n",
       "      <td>0</td>\n",
       "      <td>0</td>\n",
       "      <td>1</td>\n",
       "      <td>0</td>\n",
       "      <td>0</td>\n",
       "      <td>0</td>\n",
       "      <td>0</td>\n",
       "      <td>0</td>\n",
       "      <td>1</td>\n",
       "      <td>0</td>\n",
       "      <td>...</td>\n",
       "      <td>0</td>\n",
       "      <td>0</td>\n",
       "      <td>0</td>\n",
       "      <td>1</td>\n",
       "      <td>0.52</td>\n",
       "      <td>62.8</td>\n",
       "      <td>55.0</td>\n",
       "      <td>5.16</td>\n",
       "      <td>5.13</td>\n",
       "      <td>3.23</td>\n",
       "    </tr>\n",
       "    <tr>\n",
       "      <th>15529</th>\n",
       "      <td>0</td>\n",
       "      <td>0</td>\n",
       "      <td>0</td>\n",
       "      <td>1</td>\n",
       "      <td>0</td>\n",
       "      <td>0</td>\n",
       "      <td>0</td>\n",
       "      <td>0</td>\n",
       "      <td>1</td>\n",
       "      <td>0</td>\n",
       "      <td>...</td>\n",
       "      <td>0</td>\n",
       "      <td>0</td>\n",
       "      <td>1</td>\n",
       "      <td>0</td>\n",
       "      <td>1.30</td>\n",
       "      <td>62.2</td>\n",
       "      <td>58.0</td>\n",
       "      <td>6.92</td>\n",
       "      <td>6.98</td>\n",
       "      <td>4.32</td>\n",
       "    </tr>\n",
       "    <tr>\n",
       "      <th>36333</th>\n",
       "      <td>0</td>\n",
       "      <td>0</td>\n",
       "      <td>0</td>\n",
       "      <td>1</td>\n",
       "      <td>0</td>\n",
       "      <td>0</td>\n",
       "      <td>0</td>\n",
       "      <td>1</td>\n",
       "      <td>0</td>\n",
       "      <td>0</td>\n",
       "      <td>...</td>\n",
       "      <td>0</td>\n",
       "      <td>1</td>\n",
       "      <td>0</td>\n",
       "      <td>0</td>\n",
       "      <td>0.83</td>\n",
       "      <td>60.2</td>\n",
       "      <td>60.0</td>\n",
       "      <td>6.04</td>\n",
       "      <td>6.09</td>\n",
       "      <td>3.65</td>\n",
       "    </tr>\n",
       "    <tr>\n",
       "      <th>31606</th>\n",
       "      <td>0</td>\n",
       "      <td>0</td>\n",
       "      <td>1</td>\n",
       "      <td>0</td>\n",
       "      <td>0</td>\n",
       "      <td>0</td>\n",
       "      <td>0</td>\n",
       "      <td>0</td>\n",
       "      <td>0</td>\n",
       "      <td>1</td>\n",
       "      <td>...</td>\n",
       "      <td>0</td>\n",
       "      <td>0</td>\n",
       "      <td>0</td>\n",
       "      <td>0</td>\n",
       "      <td>1.00</td>\n",
       "      <td>61.4</td>\n",
       "      <td>55.0</td>\n",
       "      <td>6.49</td>\n",
       "      <td>6.44</td>\n",
       "      <td>3.97</td>\n",
       "    </tr>\n",
       "  </tbody>\n",
       "</table>\n",
       "<p>8091 rows × 39 columns</p>\n",
       "</div>"
      ],
      "text/plain": [
       "       cut_Fair  cut_Good  cut_Ideal  cut_Premium  cut_Very Good  color_D  \\\n",
       "17775         0         0          0            1              0        0   \n",
       "13506         0         0          0            0              1        1   \n",
       "4325          0         0          0            0              1        0   \n",
       "37870         0         0          0            0              1        0   \n",
       "21321         0         0          0            0              1        0   \n",
       "...         ...       ...        ...          ...            ...      ...   \n",
       "3781          0         1          0            0              0        1   \n",
       "26959         0         0          1            0              0        0   \n",
       "15529         0         0          0            1              0        0   \n",
       "36333         0         0          0            1              0        0   \n",
       "31606         0         0          1            0              0        0   \n",
       "\n",
       "       color_E  color_F  color_G  color_H  ...  city_Paris  city_Surat  \\\n",
       "17775        0        0        1        0  ...           0           0   \n",
       "13506        0        0        0        0  ...           0           0   \n",
       "4325         0        0        0        1  ...           0           0   \n",
       "37870        0        0        0        1  ...           0           1   \n",
       "21321        0        1        0        0  ...           0           0   \n",
       "...        ...      ...      ...      ...  ...         ...         ...   \n",
       "3781         0        0        0        0  ...           0           0   \n",
       "26959        0        0        1        0  ...           0           0   \n",
       "15529        0        0        1        0  ...           0           0   \n",
       "36333        0        1        0        0  ...           0           1   \n",
       "31606        0        0        0        1  ...           0           0   \n",
       "\n",
       "       city_Tel Aviv  city_Zurich  carat  depth  table     x     y     z  \n",
       "17775              1            0   1.04   61.3   58.0  6.52  6.43  3.97  \n",
       "13506              0            0   0.23   59.6   61.0  3.99  4.03  2.39  \n",
       "4325               0            0   1.30   61.9   56.0  6.97  7.05  4.34  \n",
       "37870              0            0   0.90   61.7   57.0  6.21  6.26  3.85  \n",
       "21321              0            0   0.72   63.4   57.0  5.68  5.70  3.61  \n",
       "...              ...          ...    ...    ...    ...   ...   ...   ...  \n",
       "3781               0            0   0.70   63.6   60.0  5.59  5.51  3.51  \n",
       "26959              0            1   0.52   62.8   55.0  5.16  5.13  3.23  \n",
       "15529              1            0   1.30   62.2   58.0  6.92  6.98  4.32  \n",
       "36333              0            0   0.83   60.2   60.0  6.04  6.09  3.65  \n",
       "31606              0            0   1.00   61.4   55.0  6.49  6.44  3.97  \n",
       "\n",
       "[8091 rows x 39 columns]"
      ]
     },
     "execution_count": 16,
     "metadata": {},
     "output_type": "execute_result"
    }
   ],
   "source": [
    "X_test_allcolumns"
   ]
  },
  {
   "cell_type": "code",
   "execution_count": 17,
   "id": "706dc087",
   "metadata": {},
   "outputs": [
    {
     "data": {
      "text/html": [
       "<div>\n",
       "<style scoped>\n",
       "    .dataframe tbody tr th:only-of-type {\n",
       "        vertical-align: middle;\n",
       "    }\n",
       "\n",
       "    .dataframe tbody tr th {\n",
       "        vertical-align: top;\n",
       "    }\n",
       "\n",
       "    .dataframe thead th {\n",
       "        text-align: right;\n",
       "    }\n",
       "</style>\n",
       "<table border=\"1\" class=\"dataframe\">\n",
       "  <thead>\n",
       "    <tr style=\"text-align: right;\">\n",
       "      <th></th>\n",
       "      <th>index</th>\n",
       "      <th>price</th>\n",
       "    </tr>\n",
       "  </thead>\n",
       "  <tbody>\n",
       "    <tr>\n",
       "      <th>0</th>\n",
       "      <td>32121</td>\n",
       "      <td>838</td>\n",
       "    </tr>\n",
       "    <tr>\n",
       "      <th>1</th>\n",
       "      <td>9831</td>\n",
       "      <td>15162</td>\n",
       "    </tr>\n",
       "    <tr>\n",
       "      <th>2</th>\n",
       "      <td>33128</td>\n",
       "      <td>1845</td>\n",
       "    </tr>\n",
       "    <tr>\n",
       "      <th>3</th>\n",
       "      <td>6199</td>\n",
       "      <td>2388</td>\n",
       "    </tr>\n",
       "    <tr>\n",
       "      <th>4</th>\n",
       "      <td>19661</td>\n",
       "      <td>4399</td>\n",
       "    </tr>\n",
       "    <tr>\n",
       "      <th>...</th>\n",
       "      <td>...</td>\n",
       "      <td>...</td>\n",
       "    </tr>\n",
       "    <tr>\n",
       "      <th>32359</th>\n",
       "      <td>6265</td>\n",
       "      <td>12075</td>\n",
       "    </tr>\n",
       "    <tr>\n",
       "      <th>32360</th>\n",
       "      <td>11284</td>\n",
       "      <td>7710</td>\n",
       "    </tr>\n",
       "    <tr>\n",
       "      <th>32361</th>\n",
       "      <td>38158</td>\n",
       "      <td>739</td>\n",
       "    </tr>\n",
       "    <tr>\n",
       "      <th>32362</th>\n",
       "      <td>860</td>\n",
       "      <td>2741</td>\n",
       "    </tr>\n",
       "    <tr>\n",
       "      <th>32363</th>\n",
       "      <td>15795</td>\n",
       "      <td>5166</td>\n",
       "    </tr>\n",
       "  </tbody>\n",
       "</table>\n",
       "<p>32364 rows × 2 columns</p>\n",
       "</div>"
      ],
      "text/plain": [
       "       index  price\n",
       "0      32121    838\n",
       "1       9831  15162\n",
       "2      33128   1845\n",
       "3       6199   2388\n",
       "4      19661   4399\n",
       "...      ...    ...\n",
       "32359   6265  12075\n",
       "32360  11284   7710\n",
       "32361  38158    739\n",
       "32362    860   2741\n",
       "32363  15795   5166\n",
       "\n",
       "[32364 rows x 2 columns]"
      ]
     },
     "execution_count": 17,
     "metadata": {},
     "output_type": "execute_result"
    }
   ],
   "source": [
    "y_train_allcolumns=pd.DataFrame(y_train)\n",
    "y_train_allcolumns.columns = [\"price\"]\n",
    "y_train_allcolumns.reset_index()"
   ]
  },
  {
   "cell_type": "code",
   "execution_count": 18,
   "id": "621efdd6",
   "metadata": {},
   "outputs": [
    {
     "data": {
      "text/plain": [
       "17775    9039\n",
       "13506     499\n",
       "4325     7747\n",
       "37870    3772\n",
       "21321    3264\n",
       "         ... \n",
       "3781     2512\n",
       "26959    1694\n",
       "15529    8854\n",
       "36333    3557\n",
       "31606    4676\n",
       "Name: price, Length: 8091, dtype: int64"
      ]
     },
     "execution_count": 18,
     "metadata": {},
     "output_type": "execute_result"
    }
   ],
   "source": [
    "y_test"
   ]
  },
  {
   "cell_type": "code",
   "execution_count": 19,
   "id": "47b4bfb2",
   "metadata": {},
   "outputs": [],
   "source": [
    "### MODELO 1 ###   LinearRegression, todas las columnas, Scaler: StandardScaler"
   ]
  },
  {
   "cell_type": "code",
   "execution_count": 20,
   "id": "e1787119",
   "metadata": {},
   "outputs": [],
   "source": [
    "from sklearn import linear_model\n",
    "from sklearn.linear_model import ElasticNet\n",
    "from sklearn.linear_model import Ridge\n",
    "from sklearn.svm import SVR\n",
    "from sklearn.linear_model import SGDRegressor\n",
    "from sklearn.linear_model import LinearRegression"
   ]
  },
  {
   "cell_type": "code",
   "execution_count": 21,
   "id": "6719a2f5",
   "metadata": {},
   "outputs": [],
   "source": [
    "scaler1 = StandardScaler()\n",
    "X_train_allcolumns_scaler1 = scaler1.fit_transform(X_train_allcolumns.loc[:,features].values)"
   ]
  },
  {
   "cell_type": "code",
   "execution_count": 22,
   "id": "d1578ee7",
   "metadata": {},
   "outputs": [],
   "source": [
    "scaler2 = MinMaxScaler()\n",
    "X_train_allcolumns_scaler2 = scaler2.fit_transform(X_train_allcolumns.loc[:,features].values)"
   ]
  },
  {
   "cell_type": "code",
   "execution_count": 23,
   "id": "ca0209bb",
   "metadata": {},
   "outputs": [],
   "source": [
    "scaler3 = MaxAbsScaler()\n",
    "X_train_allcolumns_scaler3 = scaler3.fit_transform(X_train_allcolumns.loc[:,features].values)"
   ]
  },
  {
   "cell_type": "code",
   "execution_count": 24,
   "id": "078a5579",
   "metadata": {},
   "outputs": [
    {
     "data": {
      "text/plain": [
       "LinearRegression()"
      ]
     },
     "execution_count": 24,
     "metadata": {},
     "output_type": "execute_result"
    }
   ],
   "source": [
    "model1 = LinearRegression()\n",
    "model1.fit(X_train_allcolumns_scaler1,y_train_allcolumns[\"price\"])"
   ]
  },
  {
   "cell_type": "code",
   "execution_count": 25,
   "id": "9a52abdd",
   "metadata": {},
   "outputs": [],
   "source": [
    "x_testmodelo1 = scaler1.transform(X_test_allcolumns.loc[:,features].values)\n",
    "predictions1 = model1.predict(x_testmodelo1)"
   ]
  },
  {
   "cell_type": "code",
   "execution_count": 26,
   "id": "139cbfbc",
   "metadata": {},
   "outputs": [
    {
     "data": {
      "text/plain": [
       "array([7287.05071201, 1015.58323801, 8525.96517937, ..., 8736.3494841 ,\n",
       "       4629.55861992, 4832.27990877])"
      ]
     },
     "execution_count": 26,
     "metadata": {},
     "output_type": "execute_result"
    }
   ],
   "source": [
    "predictions1"
   ]
  },
  {
   "cell_type": "code",
   "execution_count": 27,
   "id": "541c8b03",
   "metadata": {},
   "outputs": [
    {
     "data": {
      "text/html": [
       "<div>\n",
       "<style scoped>\n",
       "    .dataframe tbody tr th:only-of-type {\n",
       "        vertical-align: middle;\n",
       "    }\n",
       "\n",
       "    .dataframe tbody tr th {\n",
       "        vertical-align: top;\n",
       "    }\n",
       "\n",
       "    .dataframe thead th {\n",
       "        text-align: right;\n",
       "    }\n",
       "</style>\n",
       "<table border=\"1\" class=\"dataframe\">\n",
       "  <thead>\n",
       "    <tr style=\"text-align: right;\">\n",
       "      <th></th>\n",
       "      <th>Ground truth</th>\n",
       "      <th>Predictions</th>\n",
       "      <th>Diff</th>\n",
       "    </tr>\n",
       "  </thead>\n",
       "  <tbody>\n",
       "    <tr>\n",
       "      <th>17775</th>\n",
       "      <td>9039</td>\n",
       "      <td>7287.050712</td>\n",
       "      <td>1751.949288</td>\n",
       "    </tr>\n",
       "    <tr>\n",
       "      <th>13506</th>\n",
       "      <td>499</td>\n",
       "      <td>1015.583238</td>\n",
       "      <td>-516.583238</td>\n",
       "    </tr>\n",
       "    <tr>\n",
       "      <th>4325</th>\n",
       "      <td>7747</td>\n",
       "      <td>8525.965179</td>\n",
       "      <td>-778.965179</td>\n",
       "    </tr>\n",
       "    <tr>\n",
       "      <th>37870</th>\n",
       "      <td>3772</td>\n",
       "      <td>3871.218258</td>\n",
       "      <td>-99.218258</td>\n",
       "    </tr>\n",
       "    <tr>\n",
       "      <th>21321</th>\n",
       "      <td>3264</td>\n",
       "      <td>3879.090878</td>\n",
       "      <td>-615.090878</td>\n",
       "    </tr>\n",
       "    <tr>\n",
       "      <th>...</th>\n",
       "      <td>...</td>\n",
       "      <td>...</td>\n",
       "      <td>...</td>\n",
       "    </tr>\n",
       "    <tr>\n",
       "      <th>3781</th>\n",
       "      <td>2512</td>\n",
       "      <td>2904.268218</td>\n",
       "      <td>-392.268218</td>\n",
       "    </tr>\n",
       "    <tr>\n",
       "      <th>26959</th>\n",
       "      <td>1694</td>\n",
       "      <td>2211.893134</td>\n",
       "      <td>-517.893134</td>\n",
       "    </tr>\n",
       "    <tr>\n",
       "      <th>15529</th>\n",
       "      <td>8854</td>\n",
       "      <td>8736.349484</td>\n",
       "      <td>117.650516</td>\n",
       "    </tr>\n",
       "    <tr>\n",
       "      <th>36333</th>\n",
       "      <td>3557</td>\n",
       "      <td>4629.558620</td>\n",
       "      <td>-1072.558620</td>\n",
       "    </tr>\n",
       "    <tr>\n",
       "      <th>31606</th>\n",
       "      <td>4676</td>\n",
       "      <td>4832.279909</td>\n",
       "      <td>-156.279909</td>\n",
       "    </tr>\n",
       "  </tbody>\n",
       "</table>\n",
       "<p>8091 rows × 3 columns</p>\n",
       "</div>"
      ],
      "text/plain": [
       "       Ground truth  Predictions         Diff\n",
       "17775          9039  7287.050712  1751.949288\n",
       "13506           499  1015.583238  -516.583238\n",
       "4325           7747  8525.965179  -778.965179\n",
       "37870          3772  3871.218258   -99.218258\n",
       "21321          3264  3879.090878  -615.090878\n",
       "...             ...          ...          ...\n",
       "3781           2512  2904.268218  -392.268218\n",
       "26959          1694  2211.893134  -517.893134\n",
       "15529          8854  8736.349484   117.650516\n",
       "36333          3557  4629.558620 -1072.558620\n",
       "31606          4676  4832.279909  -156.279909\n",
       "\n",
       "[8091 rows x 3 columns]"
      ]
     },
     "execution_count": 27,
     "metadata": {},
     "output_type": "execute_result"
    }
   ],
   "source": [
    "check1 = pd.DataFrame({'Ground truth':y_test, 'Predictions':predictions1, 'Diff':y_test-predictions1})\n",
    "check1"
   ]
  },
  {
   "cell_type": "code",
   "execution_count": 28,
   "id": "d1b85f04",
   "metadata": {},
   "outputs": [
    {
     "data": {
      "text/plain": [
       "1160.3777122737868"
      ]
     },
     "execution_count": 28,
     "metadata": {},
     "output_type": "execute_result"
    }
   ],
   "source": [
    "from sklearn.metrics import mean_squared_error\n",
    "rmse1 = mean_squared_error(y_test, predictions1)**0.5\n",
    "rmse1"
   ]
  },
  {
   "cell_type": "code",
   "execution_count": 29,
   "id": "2fefb436",
   "metadata": {},
   "outputs": [],
   "source": [
    "### MODELO 2 ###   ElasticNet, todas las columnas, Scaler: StandardScaler"
   ]
  },
  {
   "cell_type": "code",
   "execution_count": 30,
   "id": "e9adb6b6",
   "metadata": {},
   "outputs": [
    {
     "data": {
      "text/plain": [
       "ElasticNet()"
      ]
     },
     "execution_count": 30,
     "metadata": {},
     "output_type": "execute_result"
    }
   ],
   "source": [
    "model2 = ElasticNet()\n",
    "model2.fit(X_train_allcolumns_scaler1,y_train_allcolumns[\"price\"])"
   ]
  },
  {
   "cell_type": "code",
   "execution_count": 31,
   "id": "c031727a",
   "metadata": {},
   "outputs": [],
   "source": [
    "x_testmodelo2 = scaler1.transform(X_test_allcolumns.loc[:,features].values)\n",
    "predictions2 = model2.predict(x_testmodelo2)"
   ]
  },
  {
   "cell_type": "code",
   "execution_count": 32,
   "id": "2529110a",
   "metadata": {},
   "outputs": [
    {
     "data": {
      "text/plain": [
       "1606.0221983321887"
      ]
     },
     "execution_count": 32,
     "metadata": {},
     "output_type": "execute_result"
    }
   ],
   "source": [
    "from sklearn.metrics import mean_squared_error\n",
    "rmse2 = mean_squared_error(y_test, predictions2)**0.5\n",
    "rmse2"
   ]
  },
  {
   "cell_type": "code",
   "execution_count": 33,
   "id": "34de43f9",
   "metadata": {},
   "outputs": [],
   "source": [
    "### MODELO 3 ###   Ridge, todas las columnas, Scaler: StandardScaler"
   ]
  },
  {
   "cell_type": "code",
   "execution_count": 34,
   "id": "374c63ef",
   "metadata": {},
   "outputs": [
    {
     "data": {
      "text/plain": [
       "Ridge()"
      ]
     },
     "execution_count": 34,
     "metadata": {},
     "output_type": "execute_result"
    }
   ],
   "source": [
    "model3 = Ridge()\n",
    "model3.fit(X_train_allcolumns_scaler1,y_train_allcolumns[\"price\"])"
   ]
  },
  {
   "cell_type": "code",
   "execution_count": 35,
   "id": "f76acfb6",
   "metadata": {},
   "outputs": [],
   "source": [
    "x_testmodelo3 = scaler1.transform(X_test_allcolumns.loc[:,features].values)\n",
    "predictions3 = model3.predict(x_testmodelo3)"
   ]
  },
  {
   "cell_type": "code",
   "execution_count": 36,
   "id": "b7617885",
   "metadata": {},
   "outputs": [
    {
     "data": {
      "text/plain": [
       "1160.2958595969292"
      ]
     },
     "execution_count": 36,
     "metadata": {},
     "output_type": "execute_result"
    }
   ],
   "source": [
    "from sklearn.metrics import mean_squared_error\n",
    "rmse3 = mean_squared_error(y_test, predictions3)**0.5\n",
    "rmse3"
   ]
  },
  {
   "cell_type": "code",
   "execution_count": 37,
   "id": "dc8088e0",
   "metadata": {},
   "outputs": [],
   "source": [
    "### MODELO 4 ###   SGDRegressor, todas las columnas, Scaler: StandardScaler"
   ]
  },
  {
   "cell_type": "code",
   "execution_count": 38,
   "id": "91a21977",
   "metadata": {},
   "outputs": [
    {
     "data": {
      "text/plain": [
       "SGDRegressor()"
      ]
     },
     "execution_count": 38,
     "metadata": {},
     "output_type": "execute_result"
    }
   ],
   "source": [
    "model4 = SGDRegressor()\n",
    "model4.fit(X_train_allcolumns_scaler1,y_train_allcolumns[\"price\"])"
   ]
  },
  {
   "cell_type": "code",
   "execution_count": 39,
   "id": "0fa162ae",
   "metadata": {},
   "outputs": [],
   "source": [
    "x_testmodelo4 = scaler1.transform(X_test_allcolumns.loc[:,features].values)\n",
    "predictions4 = model4.predict(x_testmodelo4)"
   ]
  },
  {
   "cell_type": "code",
   "execution_count": 40,
   "id": "b1428b75",
   "metadata": {},
   "outputs": [
    {
     "data": {
      "text/plain": [
       "1166.5746827167702"
      ]
     },
     "execution_count": 40,
     "metadata": {},
     "output_type": "execute_result"
    }
   ],
   "source": [
    "from sklearn.metrics import mean_squared_error\n",
    "rmse4 = mean_squared_error(y_test, predictions4)**0.5\n",
    "rmse4"
   ]
  },
  {
   "cell_type": "code",
   "execution_count": 41,
   "id": "9bc0d363",
   "metadata": {},
   "outputs": [],
   "source": [
    "### MODELO 5 ###   Ridge, todas las columnas, Scaler: MinMaxScaler"
   ]
  },
  {
   "cell_type": "code",
   "execution_count": 42,
   "id": "8a185e72",
   "metadata": {},
   "outputs": [
    {
     "data": {
      "text/plain": [
       "Ridge()"
      ]
     },
     "execution_count": 42,
     "metadata": {},
     "output_type": "execute_result"
    }
   ],
   "source": [
    "model5 = Ridge()\n",
    "model5.fit(X_train_allcolumns_scaler2,y_train_allcolumns[\"price\"])"
   ]
  },
  {
   "cell_type": "code",
   "execution_count": 43,
   "id": "e006a9ab",
   "metadata": {},
   "outputs": [],
   "source": [
    "x_testmodelo5 = scaler2.transform(X_test_allcolumns.loc[:,features].values)\n",
    "predictions5 = model5.predict(x_testmodelo5)"
   ]
  },
  {
   "cell_type": "code",
   "execution_count": 44,
   "id": "06a2022c",
   "metadata": {},
   "outputs": [
    {
     "data": {
      "text/plain": [
       "1159.1636378012686"
      ]
     },
     "execution_count": 44,
     "metadata": {},
     "output_type": "execute_result"
    }
   ],
   "source": [
    "from sklearn.metrics import mean_squared_error\n",
    "rmse5 = mean_squared_error(y_test, predictions5)**0.5\n",
    "rmse5"
   ]
  },
  {
   "cell_type": "code",
   "execution_count": 45,
   "id": "4a3b1125",
   "metadata": {},
   "outputs": [],
   "source": [
    "### MODELO 6 ###   Ridge, todas las columnas, Scaler: MaxAbsScaler"
   ]
  },
  {
   "cell_type": "code",
   "execution_count": 46,
   "id": "8a735dc2",
   "metadata": {},
   "outputs": [
    {
     "data": {
      "text/plain": [
       "'\"Data after max-abs scaling\", MaxAbsScaler().fit_transform(X)),\\n    (\\n        \"Data after robust scaling\",\\n        RobustScaler(quantile_range=(25, 75)).fit_transform(X),\\n    ),\\n    (\\n        \"Data after power transformation (Yeo-Johnson)\",\\n        PowerTransformer(method=\"yeo-johnson\").fit_transform(X),\\n    ),\\n    (\\n        \"Data after power transformation (Box-Cox)\",\\n        PowerTransformer(method=\"box-cox\").fit_transform(X),\\n    ),\\n    (\\n        \"Data after quantile transformation (uniform pdf)\",\\n        QuantileTransformer(output_distribution=\"uniform\").fit_transform(X),\\n    ),\\n    (\\n        \"Data after quantile transformation (gaussian pdf)\",\\n        QuantileTransformer(output_distribution=\"normal\").fit_transform(X),\\n    ),\\n    (\"Data after sample-wise L2 normalizing\", Normalizer().fit_transform(X)),\\n]'"
      ]
     },
     "execution_count": 46,
     "metadata": {},
     "output_type": "execute_result"
    }
   ],
   "source": [
    "'''\"Data after max-abs scaling\", MaxAbsScaler().fit_transform(X)),\n",
    "    (\n",
    "        \"Data after robust scaling\",\n",
    "        RobustScaler(quantile_range=(25, 75)).fit_transform(X),\n",
    "    ),\n",
    "    (\n",
    "        \"Data after power transformation (Yeo-Johnson)\",\n",
    "        PowerTransformer(method=\"yeo-johnson\").fit_transform(X),\n",
    "    ),\n",
    "    (\n",
    "        \"Data after power transformation (Box-Cox)\",\n",
    "        PowerTransformer(method=\"box-cox\").fit_transform(X),\n",
    "    ),\n",
    "    (\n",
    "        \"Data after quantile transformation (uniform pdf)\",\n",
    "        QuantileTransformer(output_distribution=\"uniform\").fit_transform(X),\n",
    "    ),\n",
    "    (\n",
    "        \"Data after quantile transformation (gaussian pdf)\",\n",
    "        QuantileTransformer(output_distribution=\"normal\").fit_transform(X),\n",
    "    ),\n",
    "    (\"Data after sample-wise L2 normalizing\", Normalizer().fit_transform(X)),\n",
    "]'''"
   ]
  },
  {
   "cell_type": "code",
   "execution_count": 47,
   "id": "67e667f6",
   "metadata": {},
   "outputs": [
    {
     "data": {
      "text/plain": [
       "Ridge()"
      ]
     },
     "execution_count": 47,
     "metadata": {},
     "output_type": "execute_result"
    }
   ],
   "source": [
    "model6 = Ridge()\n",
    "model6.fit(X_train_allcolumns_scaler3,y_train_allcolumns[\"price\"])"
   ]
  },
  {
   "cell_type": "code",
   "execution_count": 48,
   "id": "8ad98281",
   "metadata": {},
   "outputs": [],
   "source": [
    "x_testmodelo6 = scaler3.transform(X_test_allcolumns.loc[:,features].values)\n",
    "predictions6 = model6.predict(x_testmodelo6)"
   ]
  },
  {
   "cell_type": "code",
   "execution_count": 49,
   "id": "84b36fbd",
   "metadata": {},
   "outputs": [
    {
     "data": {
      "text/plain": [
       "1159.2085225241472"
      ]
     },
     "execution_count": 49,
     "metadata": {},
     "output_type": "execute_result"
    }
   ],
   "source": [
    "from sklearn.metrics import mean_squared_error\n",
    "rmse6 = mean_squared_error(y_test, predictions6)**0.5\n",
    "rmse6"
   ]
  },
  {
   "cell_type": "code",
   "execution_count": 50,
   "id": "4477d1bf",
   "metadata": {},
   "outputs": [],
   "source": [
    "### MODELO 7 ###   Ridge,columnas = carat y clarity, Scaler: MinMaxScaler"
   ]
  },
  {
   "cell_type": "code",
   "execution_count": 51,
   "id": "4ab6a530",
   "metadata": {},
   "outputs": [
    {
     "data": {
      "text/plain": [
       "Ridge()"
      ]
     },
     "execution_count": 51,
     "metadata": {},
     "output_type": "execute_result"
    }
   ],
   "source": [
    "model7 = Ridge()\n",
    "model7.fit(X_train_allcolumns_scaler2,y_train_allcolumns[\"price\"])"
   ]
  },
  {
   "cell_type": "code",
   "execution_count": 52,
   "id": "0b8d524c",
   "metadata": {},
   "outputs": [
    {
     "data": {
      "text/html": [
       "<div>\n",
       "<style scoped>\n",
       "    .dataframe tbody tr th:only-of-type {\n",
       "        vertical-align: middle;\n",
       "    }\n",
       "\n",
       "    .dataframe tbody tr th {\n",
       "        vertical-align: top;\n",
       "    }\n",
       "\n",
       "    .dataframe thead th {\n",
       "        text-align: right;\n",
       "    }\n",
       "</style>\n",
       "<table border=\"1\" class=\"dataframe\">\n",
       "  <thead>\n",
       "    <tr style=\"text-align: right;\">\n",
       "      <th></th>\n",
       "      <th>carat</th>\n",
       "      <th>clarity_I1</th>\n",
       "      <th>clarity_IF</th>\n",
       "      <th>clarity_SI1</th>\n",
       "      <th>clarity_SI2</th>\n",
       "      <th>clarity_VS1</th>\n",
       "      <th>clarity_VS2</th>\n",
       "      <th>clarity_VVS1</th>\n",
       "      <th>clarity_VVS2</th>\n",
       "    </tr>\n",
       "  </thead>\n",
       "  <tbody>\n",
       "    <tr>\n",
       "      <th>32121</th>\n",
       "      <td>0.42</td>\n",
       "      <td>0</td>\n",
       "      <td>0</td>\n",
       "      <td>0</td>\n",
       "      <td>1</td>\n",
       "      <td>0</td>\n",
       "      <td>0</td>\n",
       "      <td>0</td>\n",
       "      <td>0</td>\n",
       "    </tr>\n",
       "    <tr>\n",
       "      <th>9831</th>\n",
       "      <td>1.82</td>\n",
       "      <td>0</td>\n",
       "      <td>0</td>\n",
       "      <td>1</td>\n",
       "      <td>0</td>\n",
       "      <td>0</td>\n",
       "      <td>0</td>\n",
       "      <td>0</td>\n",
       "      <td>0</td>\n",
       "    </tr>\n",
       "    <tr>\n",
       "      <th>33128</th>\n",
       "      <td>0.50</td>\n",
       "      <td>0</td>\n",
       "      <td>0</td>\n",
       "      <td>0</td>\n",
       "      <td>0</td>\n",
       "      <td>0</td>\n",
       "      <td>1</td>\n",
       "      <td>0</td>\n",
       "      <td>0</td>\n",
       "    </tr>\n",
       "    <tr>\n",
       "      <th>6199</th>\n",
       "      <td>0.71</td>\n",
       "      <td>0</td>\n",
       "      <td>0</td>\n",
       "      <td>1</td>\n",
       "      <td>0</td>\n",
       "      <td>0</td>\n",
       "      <td>0</td>\n",
       "      <td>0</td>\n",
       "      <td>0</td>\n",
       "    </tr>\n",
       "    <tr>\n",
       "      <th>19661</th>\n",
       "      <td>1.01</td>\n",
       "      <td>0</td>\n",
       "      <td>0</td>\n",
       "      <td>1</td>\n",
       "      <td>0</td>\n",
       "      <td>0</td>\n",
       "      <td>0</td>\n",
       "      <td>0</td>\n",
       "      <td>0</td>\n",
       "    </tr>\n",
       "    <tr>\n",
       "      <th>...</th>\n",
       "      <td>...</td>\n",
       "      <td>...</td>\n",
       "      <td>...</td>\n",
       "      <td>...</td>\n",
       "      <td>...</td>\n",
       "      <td>...</td>\n",
       "      <td>...</td>\n",
       "      <td>...</td>\n",
       "      <td>...</td>\n",
       "    </tr>\n",
       "    <tr>\n",
       "      <th>6265</th>\n",
       "      <td>1.68</td>\n",
       "      <td>0</td>\n",
       "      <td>0</td>\n",
       "      <td>1</td>\n",
       "      <td>0</td>\n",
       "      <td>0</td>\n",
       "      <td>0</td>\n",
       "      <td>0</td>\n",
       "      <td>0</td>\n",
       "    </tr>\n",
       "    <tr>\n",
       "      <th>11284</th>\n",
       "      <td>1.00</td>\n",
       "      <td>0</td>\n",
       "      <td>0</td>\n",
       "      <td>0</td>\n",
       "      <td>0</td>\n",
       "      <td>1</td>\n",
       "      <td>0</td>\n",
       "      <td>0</td>\n",
       "      <td>0</td>\n",
       "    </tr>\n",
       "    <tr>\n",
       "      <th>38158</th>\n",
       "      <td>0.43</td>\n",
       "      <td>0</td>\n",
       "      <td>0</td>\n",
       "      <td>1</td>\n",
       "      <td>0</td>\n",
       "      <td>0</td>\n",
       "      <td>0</td>\n",
       "      <td>0</td>\n",
       "      <td>0</td>\n",
       "    </tr>\n",
       "    <tr>\n",
       "      <th>860</th>\n",
       "      <td>0.82</td>\n",
       "      <td>0</td>\n",
       "      <td>0</td>\n",
       "      <td>1</td>\n",
       "      <td>0</td>\n",
       "      <td>0</td>\n",
       "      <td>0</td>\n",
       "      <td>0</td>\n",
       "      <td>0</td>\n",
       "    </tr>\n",
       "    <tr>\n",
       "      <th>15795</th>\n",
       "      <td>1.01</td>\n",
       "      <td>0</td>\n",
       "      <td>0</td>\n",
       "      <td>0</td>\n",
       "      <td>0</td>\n",
       "      <td>0</td>\n",
       "      <td>1</td>\n",
       "      <td>0</td>\n",
       "      <td>0</td>\n",
       "    </tr>\n",
       "  </tbody>\n",
       "</table>\n",
       "<p>32364 rows × 9 columns</p>\n",
       "</div>"
      ],
      "text/plain": [
       "       carat  clarity_I1  clarity_IF  clarity_SI1  clarity_SI2  clarity_VS1  \\\n",
       "32121   0.42           0           0            0            1            0   \n",
       "9831    1.82           0           0            1            0            0   \n",
       "33128   0.50           0           0            0            0            0   \n",
       "6199    0.71           0           0            1            0            0   \n",
       "19661   1.01           0           0            1            0            0   \n",
       "...      ...         ...         ...          ...          ...          ...   \n",
       "6265    1.68           0           0            1            0            0   \n",
       "11284   1.00           0           0            0            0            1   \n",
       "38158   0.43           0           0            1            0            0   \n",
       "860     0.82           0           0            1            0            0   \n",
       "15795   1.01           0           0            0            0            0   \n",
       "\n",
       "       clarity_VS2  clarity_VVS1  clarity_VVS2  \n",
       "32121            0             0             0  \n",
       "9831             0             0             0  \n",
       "33128            1             0             0  \n",
       "6199             0             0             0  \n",
       "19661            0             0             0  \n",
       "...            ...           ...           ...  \n",
       "6265             0             0             0  \n",
       "11284            0             0             0  \n",
       "38158            0             0             0  \n",
       "860              0             0             0  \n",
       "15795            1             0             0  \n",
       "\n",
       "[32364 rows x 9 columns]"
      ]
     },
     "execution_count": 52,
     "metadata": {},
     "output_type": "execute_result"
    }
   ],
   "source": [
    "carat_clarity = [\"carat\",'clarity_I1','clarity_IF','clarity_SI1','clarity_SI2','clarity_VS1','clarity_VS2','clarity_VVS1','clarity_VVS2']\n",
    "X_train_carat_clarity = X_train_allcolumns[carat_clarity]\n",
    "X_train_carat_clarity"
   ]
  },
  {
   "cell_type": "code",
   "execution_count": 53,
   "id": "16e33b76",
   "metadata": {},
   "outputs": [],
   "source": [
    "X_train_carat_clarity_scaler2 = scaler2.fit_transform(X_train_carat_clarity.loc[:,carat_clarity].values)"
   ]
  },
  {
   "cell_type": "code",
   "execution_count": 54,
   "id": "a00496d9",
   "metadata": {},
   "outputs": [
    {
     "data": {
      "text/plain": [
       "Ridge()"
      ]
     },
     "execution_count": 54,
     "metadata": {},
     "output_type": "execute_result"
    }
   ],
   "source": [
    "model7 = Ridge()\n",
    "model7.fit(X_train_carat_clarity_scaler2,y_train_allcolumns[\"price\"])"
   ]
  },
  {
   "cell_type": "code",
   "execution_count": 55,
   "id": "e1895963",
   "metadata": {},
   "outputs": [],
   "source": [
    "X_test_carat_clarity = X_test_allcolumns[carat_clarity]\n",
    "x_testmodelo7 = scaler2.transform(X_test_carat_clarity.loc[:,carat_clarity].values)\n",
    "predictions7 = model7.predict(x_testmodelo7)"
   ]
  },
  {
   "cell_type": "code",
   "execution_count": 56,
   "id": "161d1acb",
   "metadata": {},
   "outputs": [
    {
     "data": {
      "text/plain": [
       "1313.77565086706"
      ]
     },
     "execution_count": 56,
     "metadata": {},
     "output_type": "execute_result"
    }
   ],
   "source": [
    "from sklearn.metrics import mean_squared_error\n",
    "rmse7 = mean_squared_error(y_test, predictions7)**0.5\n",
    "rmse7"
   ]
  },
  {
   "cell_type": "code",
   "execution_count": null,
   "id": "880b46ff",
   "metadata": {},
   "outputs": [],
   "source": []
  },
  {
   "cell_type": "code",
   "execution_count": null,
   "id": "c1732434",
   "metadata": {},
   "outputs": [],
   "source": []
  }
 ],
 "metadata": {
  "kernelspec": {
   "display_name": "Python [conda env:sklearn_env]",
   "language": "python",
   "name": "conda-env-sklearn_env-py"
  },
  "language_info": {
   "codemirror_mode": {
    "name": "ipython",
    "version": 3
   },
   "file_extension": ".py",
   "mimetype": "text/x-python",
   "name": "python",
   "nbconvert_exporter": "python",
   "pygments_lexer": "ipython3",
   "version": "3.10.2"
  }
 },
 "nbformat": 4,
 "nbformat_minor": 5
}
